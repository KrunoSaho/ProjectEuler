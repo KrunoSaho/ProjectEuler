{
 "cells": [
  {
   "cell_type": "code",
   "execution_count": 35,
   "metadata": {},
   "outputs": [],
   "source": [
    "import itertools as it\n",
    "from functools import lru_cache\n",
    "from typing import OrderedDict"
   ]
  },
  {
   "cell_type": "code",
   "execution_count": 36,
   "metadata": {},
   "outputs": [],
   "source": [
    "@lru_cache\n",
    "def fn_op(a, b, op):\n",
    "    match op:\n",
    "        case '+': return a + b\n",
    "        case '-': return a - b\n",
    "        case '*': return a * b\n",
    "        case '/': return a / b if b != 0 else 0"
   ]
  },
  {
   "cell_type": "code",
   "execution_count": 37,
   "metadata": {},
   "outputs": [],
   "source": [
    "def solve(stack) -> int:\n",
    "    a, b = stack.pop(0), stack.pop(0)\n",
    "    op = stack.pop(0)\n",
    "    result = fn_op(a, b, op)\n",
    "    \n",
    "    while len(stack) > 0:\n",
    "        a, b = result, stack.pop(0)\n",
    "        op = stack.pop(0)\n",
    "        result = fn_op(a, b, op)\n",
    "        \n",
    "    return abs(int(result)) if int(result) == result else 0 # type: ignore"
   ]
  },
  {
   "cell_type": "code",
   "execution_count": 38,
   "metadata": {},
   "outputs": [
    {
     "data": {
      "text/plain": [
       "24"
      ]
     },
     "execution_count": 38,
     "metadata": {},
     "output_type": "execute_result"
    }
   ],
   "source": [
    "def get_op_combos():\n",
    "    ops = '+-*/'\n",
    "    uniques = set()\n",
    "\n",
    "    for o1, o2, o3 in it.product(ops, repeat=3):\n",
    "        uniques.add(f\"{o1}{o2}{o3}\")\n",
    "\n",
    "    return uniques\n",
    "\n",
    "\n",
    "def create_stacks(x, y, z, w):\n",
    "    digits = [x, y, z, w]\n",
    "    uniques = set()\n",
    "\n",
    "    for a, b, c, d in it.permutations(digits, 4):\n",
    "        for o1, o2, o3 in get_op_combos():\n",
    "            uniques.add((a, b, o1, c, o2, d, o3))\n",
    "    \n",
    "    yield from uniques\n",
    "    \n",
    "len(list(it.permutations([1, 2, 3, 4], 4)))"
   ]
  },
  {
   "cell_type": "code",
   "execution_count": 39,
   "metadata": {},
   "outputs": [],
   "source": [
    "def generate_inputs():\n",
    "    uniques = set()\n",
    "    for a in range(0, 10):\n",
    "        for b in range(0, 10):\n",
    "            for c in range(0, 10):\n",
    "                for d in range(0, 10):\n",
    "                    if a < b < c < d: uniques.add((a, b, c, d))\n",
    "    return uniques"
   ]
  },
  {
   "cell_type": "code",
   "execution_count": 42,
   "metadata": {},
   "outputs": [
    {
     "data": {
      "text/plain": [
       "(51, '1258')"
      ]
     },
     "execution_count": 42,
     "metadata": {},
     "output_type": "execute_result"
    }
   ],
   "source": [
    "def solve_all(single_stack=None):\n",
    "    inputs = generate_inputs()\n",
    "    \n",
    "    if single_stack:\n",
    "        inputs = [[int(x) for x in single_stack]]\n",
    "    \n",
    "    for u, v, w, p in inputs:\n",
    "        stacks = create_stacks(u, v, w, p)\n",
    "        values = {}\n",
    "\n",
    "        for stack in stacks:\n",
    "            result = solve(list(stack))\n",
    "            if result > 0:\n",
    "                fmt = ''.join(str(x) for x in stack)\n",
    "                values[result] = fmt\n",
    "        \n",
    "        numerals = sorted(values.keys())\n",
    "        for a, b in zip(numerals, numerals[1:]):\n",
    "            if b - a != 1:\n",
    "                code = f\"{u}{v}{w}{p}\"\n",
    "                if single_stack == code:\n",
    "                    print(f\"{code}: {a}\")\n",
    "                    for k, v in OrderedDict(sorted(values.items())).items():\n",
    "                        print(f\"{k}: {v}\")\n",
    "                yield code, a\n",
    "                break\n",
    "\n",
    "max((result, digits) for digits, result in solve_all())"
   ]
  }
 ],
 "metadata": {
  "kernelspec": {
   "display_name": "python",
   "language": "python",
   "name": "python3"
  },
  "language_info": {
   "codemirror_mode": {
    "name": "ipython",
    "version": 3
   },
   "file_extension": ".py",
   "mimetype": "text/x-python",
   "name": "python",
   "nbconvert_exporter": "python",
   "pygments_lexer": "ipython3",
   "version": "3.12.3"
  }
 },
 "nbformat": 4,
 "nbformat_minor": 2
}
